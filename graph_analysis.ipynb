{
 "cells": [
  {
   "cell_type": "code",
   "execution_count": 1,
   "metadata": {},
   "outputs": [],
   "source": [
    "import networkx as nx\n",
    "import numpy as np\n",
    "import pandas as pd\n",
    "\n",
    "from graph_utils import (\n",
    "    get_repaired_interactions,\n",
    "    GOWALLA_DATASET_NAME, YELP_2018_DATASET_NAME, AMAZON_BOOK_DATASET_NAME,\n",
    "    df_table_to_latex\n",
    ")"
   ]
  },
  {
   "cell_type": "code",
   "execution_count": 2,
   "metadata": {},
   "outputs": [],
   "source": [
    "def perform_analysis(names: list):\n",
    "    graphs_info_dict = {}\n",
    "    for name in names:\n",
    "        G, _, _ = get_repaired_interactions(name)\n",
    "\n",
    "        degrees = list(dict(G.degree()).values())\n",
    "        graph_info_dict = {\n",
    "            \"number of nodes\": G.number_of_nodes(),\n",
    "            \"number of edges\": G.number_of_edges(),\n",
    "            \"number of connected components\": nx.number_connected_components(G),\n",
    "            \"approx diameter\": nx.approximation.diameter(G),\n",
    "            \"median node degree\": np.median(degrees),\n",
    "            \"max node degree\": np.max(degrees),\n",
    "            \"min node degree\": np.min(degrees),\n",
    "        }\n",
    "\n",
    "        graphs_info_dict[name] = graph_info_dict\n",
    "    \n",
    "    return graphs_info_dict"
   ]
  },
  {
   "cell_type": "code",
   "execution_count": 3,
   "metadata": {},
   "outputs": [],
   "source": [
    "info_dict = perform_analysis([\n",
    "    GOWALLA_DATASET_NAME,\n",
    "    YELP_2018_DATASET_NAME,\n",
    "    AMAZON_BOOK_DATASET_NAME\n",
    "])"
   ]
  },
  {
   "cell_type": "code",
   "execution_count": 4,
   "metadata": {},
   "outputs": [],
   "source": [
    "df_graph_info = pd.DataFrame(info_dict).astype(int)"
   ]
  },
  {
   "cell_type": "code",
   "execution_count": 5,
   "metadata": {},
   "outputs": [
    {
     "name": "stdout",
     "output_type": "stream",
     "text": [
      "\\begin{table}[H]\n",
      "\\centering\n",
      "\\begin{tabular}{lrrr}\n",
      "\\toprule\n",
      " & gowalla & yelp-2018 & amazon-book \\\\\n",
      "\\midrule\n",
      "number of nodes & 70839 & 69716 & 144242 \\\\\n",
      "number of edges & 810127 & 1237258 & 2380729 \\\\\n",
      "number of connected components & 1 & 1 & 1 \\\\\n",
      "approx diameter & 8 & 8 & 8 \\\\\n",
      "median node degree & 13 & 22 & 20 \\\\\n",
      "max node degree & 1415 & 1848 & 10682 \\\\\n",
      "min node degree & 1 & 1 & 1 \\\\\n",
      "\\bottomrule\n",
      "\\end{tabular}\n",
      "\\caption{Basic analysis of graphs}\n",
      "\\end{table}\n"
     ]
    }
   ],
   "source": [
    "print(\n",
    "    df_table_to_latex(\n",
    "        df_graph_info,\n",
    "        caption=\"Basic analysis of graphs\"\n",
    "    )\n",
    ")"
   ]
  },
  {
   "cell_type": "code",
   "execution_count": null,
   "metadata": {},
   "outputs": [],
   "source": []
  }
 ],
 "metadata": {
  "kernelspec": {
   "display_name": "ge_p10",
   "language": "python",
   "name": "python3"
  },
  "language_info": {
   "codemirror_mode": {
    "name": "ipython",
    "version": 3
   },
   "file_extension": ".py",
   "mimetype": "text/x-python",
   "name": "python",
   "nbconvert_exporter": "python",
   "pygments_lexer": "ipython3",
   "version": "3.10.14"
  }
 },
 "nbformat": 4,
 "nbformat_minor": 2
}
